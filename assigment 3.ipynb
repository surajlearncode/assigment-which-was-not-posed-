{
 "cells": [
  {
   "cell_type": "code",
   "execution_count": 2,
   "id": "e7486d7d-fa3e-4469-a541-1ecf41c95b32",
   "metadata": {},
   "outputs": [
    {
     "name": "stdout",
     "output_type": "stream",
     "text": [
      "1\n",
      "2\n",
      "3\n",
      "4\n",
      "5\n"
     ]
    }
   ],
   "source": [
    "ANS 1:- \n",
    ". We use for loop when we know how many times you want to run a loop.\n",
    "eg :-\n",
    "l = [1,2,3,4,5]\n",
    "for i in l :\n",
    "        print (i)"
   ]
  },
  {
   "cell_type": "code",
   "execution_count": 3,
   "id": "871fa854-bf9f-49c5-a205-6c2ad3cfac37",
   "metadata": {},
   "outputs": [
    {
     "name": "stdout",
     "output_type": "stream",
     "text": [
      "1\n",
      "2\n",
      "3\n",
      "4\n",
      "5\n",
      "6\n",
      "7\n",
      "8\n",
      "9\n",
      "10\n"
     ]
    }
   ],
   "source": [
    ".we use while loop when we dont know how many times a loop runs . \n",
    "eg :-\n",
    "l=1\n",
    "while l <=10 :\n",
    "    print(l)\n",
    "    l = l+1\n",
    "if i dont write l = l+1 then this while loop run infinite times."
   ]
  },
  {
   "cell_type": "code",
   "execution_count": 12,
   "id": "882c5ed8-cab4-4b26-af49-7bc3c48387e5",
   "metadata": {},
   "outputs": [
    {
     "name": "stdout",
     "output_type": "stream",
     "text": [
      "0\n",
      "1\n",
      "3\n",
      "6\n",
      "10\n",
      "15\n",
      "21\n",
      "28\n",
      "36\n",
      "45\n",
      "55\n"
     ]
    }
   ],
   "source": [
    "ANS 2:- This is sum of first ten natural numbers\n",
    "l1 = 1\n",
    "sum = 0\n",
    "while l1 <= 11:\n",
    "    print(sum)\n",
    "    sum = sum + l1\n",
    "    l1 = l1 + 1\n",
    "    "
   ]
  },
  {
   "cell_type": "code",
   "execution_count": 4,
   "id": "4c71b357-49c5-4ae1-b978-3eec3a56446a",
   "metadata": {},
   "outputs": [
    {
     "name": "stdout",
     "output_type": "stream",
     "text": [
      "1\n",
      "1\n",
      "2\n",
      "6\n",
      "24\n",
      "120\n",
      "720\n",
      "5040\n",
      "40320\n",
      "362880\n",
      "3628800\n"
     ]
    }
   ],
   "source": [
    "This is prooduct of first ten natural numbers\n",
    "l1 = 1\n",
    "product = 1\n",
    "while l1<= 11:\n",
    "    print(product)\n",
    "    product = product * l1\n",
    "    l1 = l1 + 1"
   ]
  },
  {
   "cell_type": "code",
   "execution_count": 9,
   "id": "20a1e4f7-3740-4da8-9803-b1abc3a641db",
   "metadata": {},
   "outputs": [
    {
     "name": "stdin",
     "output_type": "stream",
     "text": [
      "enter the units of electricity  310\n"
     ]
    },
    {
     "name": "stdout",
     "output_type": "stream",
     "text": [
      "your cost is \n",
      "6200.0\n"
     ]
    }
   ],
   "source": [
    "ANS 3:-\n",
    "number = float(input(\"enter the units of electricity \"))\n",
    "requried = 0\n",
    "if number <=100 :\n",
    "    requried = number * 4.5\n",
    "    print(\"your cost is \")\n",
    "    print(requried)\n",
    "elif number <=200 :\n",
    "    requried = number * 6\n",
    "    print(\"your cost is \")\n",
    "    print(requried)\n",
    "elif number <= 300 :\n",
    "    requried = number * 10\n",
    "    print(\"your cost is \")\n",
    "    print(requried)\n",
    "else :\n",
    "    requried = number * 20\n",
    "    print(\"your cost is \")\n",
    "    print(requried)\n",
    "    \n",
    "    \n",
    "    "
   ]
  },
  {
   "cell_type": "code",
   "execution_count": 9,
   "id": "a88b0b9c-fc14-498e-9bf4-5cdfdf08648d",
   "metadata": {},
   "outputs": [],
   "source": [
    "\n",
    "l = list(range(1,101))\n",
    "l1 =[]\n",
    "cube = 0\n",
    "count = 1\n",
    "for i in l :\n",
    "    cube = i*i*i\n",
    "    if(cube % 4 == 0) :\n",
    "        l1.append(cube % 4)\n",
    "    if(cube % 3 == 0) :\n",
    "        l1.append(cube % 3)\n",
    "    count = count+1\n"
   ]
  },
  {
   "cell_type": "code",
   "execution_count": 8,
   "id": "1b9cf126-32c5-45e4-8e08-35e3539a51b3",
   "metadata": {},
   "outputs": [
    {
     "name": "stdout",
     "output_type": "stream",
     "text": [
      "Vowels :  ['i', 'a', 'o', 'e', 'a', 'a', 'i', 'e', 'i']\n",
      "No of Vowels :  9\n"
     ]
    }
   ],
   "source": [
    "ANS 5:-\n",
    "a=list(\"i want to be data scientist\")\n",
    "def vowel(x):\n",
    "    v=('a','e','i','o','u')\n",
    "    return x in v\n",
    "\n",
    "b=list(filter(vowel,a))\n",
    "print(\"Vowels : \",b)\n",
    "print(\"No of Vowels : \",len(b))"
   ]
  },
  {
   "cell_type": "code",
   "execution_count": null,
   "id": "ad61f150-fe2e-4d14-8e21-39faf8e428df",
   "metadata": {},
   "outputs": [],
   "source": []
  }
 ],
 "metadata": {
  "kernelspec": {
   "display_name": "Python 3 (ipykernel)",
   "language": "python",
   "name": "python3"
  },
  "language_info": {
   "codemirror_mode": {
    "name": "ipython",
    "version": 3
   },
   "file_extension": ".py",
   "mimetype": "text/x-python",
   "name": "python",
   "nbconvert_exporter": "python",
   "pygments_lexer": "ipython3",
   "version": "3.10.8"
  }
 },
 "nbformat": 4,
 "nbformat_minor": 5
}
